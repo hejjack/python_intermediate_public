{
 "cells": [
  {
   "cell_type": "markdown",
   "metadata": {},
   "source": [
    "## Správce kontextu\n",
    "Řekněme, že máme dvojici vzájemně souvisejících operací, které chceme provést a zároveň proměnlivý blok kódu, který je potřeba vložit mezi ně. \n",
    "\n",
    "Nejtypičtějším příkladem je otevření souboru, jeho zpracování a následné uzavření. \n",
    "\n",
    "```python\n",
    "soubor_zapis = open(\"soubor.txt\", 'w')\n",
    "soubor_zapis.write(\"Dobrý den\")\n",
    "soubor_zapis.close()\n",
    "```\n",
    "\n",
    "Správce kontextu nám přesně too umožní.\n",
    "\n",
    "#### Cvičení 1\n",
    "Vytvořte soubor `surprise.txt` a otevřete ho pro zápis. Vložte do něj předchystaný seznam `surprise` a uzavřete soubor (pro zápis seznamu použijte funkci `f.writelines()`). \n",
    "\n",
    "Zjednodušte si práci použitím správce kontextu."
   ]
  },
  {
   "cell_type": "code",
   "execution_count": null,
   "metadata": {},
   "outputs": [],
   "source": [
    "surprise = ['   /|       |\\\\\\n', \"`__\\\\\\\\       //__'\\n\", '   ||      ||\\n', \" \\\\__`\\\\     |'__/\\n\", \"   `_\\\\\\\\   //_'\\n\", '   _.,:---;,._\\n', '   \\\\_:     :_/\\n', '     |@. .@|\\n', '     |     |\\n', '     ,\\\\.-./ \\\\\\n', \"     ;;`-'   `---__________-----.-.\\n\", '     ;;;                         \\\\_\\\\\\n', \"     ';;;                         |\\n\", '      ;    |                      ;\\n', '       \\\\   \\\\     \\\\        |      /\\n', '        \\\\_, \\\\    /        \\\\     |\\\\\\n', \"          |';|  |,,,,,,,,/ \\\\    \\\\ \\\\_\\n\", '          |  |  |           \\\\   /   |\\n', '          \\\\  \\\\  |           |  / \\\\  |\\n', '           | || |           | |   | |\\n', '           | || |           | |   | |\\n', '           | || |           | |   | |\\n', '           |_||_|           |_|   |_|\\n', '          /_//_/           /_/   /_/']\n",
    "\n",
    "with  # TODO: otevri soubor pro zapis\n",
    "    # TODO: uloz do souboru seznam retezcu `surprise` pomoci fce writelines"
   ]
  },
  {
   "cell_type": "markdown",
   "metadata": {},
   "source": [
    "#### Cvičení 2\n",
    "Přečtěte obsah souboru `surprise.txt` a vypište ho na obrazovku tak, jak se zobrazí v textovém editoru. \n",
    "\n",
    "Zjednodušte si práci použitím správce kontextu."
   ]
  },
  {
   "cell_type": "code",
   "execution_count": null,
   "metadata": {},
   "outputs": [],
   "source": [
    "with # TODO: otevri soubor pro cteni\n",
    "     # TODO: uloz obsah souboru do promenne a tu vytiskni"
   ]
  },
  {
   "cell_type": "markdown",
   "metadata": {},
   "source": [
    "#### Ukázka: jiné použití správce kontextu (nad rámec kurzu)\n",
    "\n",
    "Jedním z intuitivních příkladů použití správce kontextu může být modul `decimal`. Ten se dá použít například pro přesnější práci s čísly s plovoucí desetinnou čárkou (`float`).  \n",
    "\n",
    "V následující ukázce si předvedeme, jak se dá použít správce kontextu pro nastavení přesnosti výpočtů. "
   ]
  },
  {
   "cell_type": "code",
   "execution_count": 1,
   "metadata": {},
   "outputs": [
    {
     "name": "stdout",
     "output_type": "stream",
     "text": [
      "---- Mimo kontext ----\n",
      "float pi:   6.283185307179586\n",
      "decimal pi: 6.283185307179586231995926937\n",
      "\n",
      "---- V kontextu ----\n",
      "float pi:   6.283185307179586\n",
      "decimal pi: 6.283185307179586231995926937088370323181152343750\n"
     ]
    }
   ],
   "source": [
    "from decimal import Decimal, localcontext\n",
    "import math\n",
    "\n",
    "print(\"---- Mimo kontext ----\")\n",
    "print(\"float pi:  \", math.pi * 2)\n",
    "print(\"decimal pi:\", Decimal(math.pi) * 2)\n",
    "\n",
    "print(\"\\n---- V kontextu ----\")\n",
    "with localcontext() as ctx:\n",
    "    ctx.prec = 49  # up to 49 decimal places\n",
    "    print(\"float pi:  \", math.pi * 2)\n",
    "    print(\"decimal pi:\", Decimal(math.pi) * 2)"
   ]
  },
  {
   "cell_type": "markdown",
   "metadata": {},
   "source": [
    "#### Cvičení 3\n",
    "Vytvořte správce kontextu `BezpecnySpravceSouboru`, který vytvoří záložní kopii souboru před povolením jakýchkoli změn v rámci bloku `with`. Pokud při provádění bloku dojde k vyhození výjimky (operace tedy neproběhne v pořádku až do konce), soubor se ze zálohy obnoví do původní podoby. Pokud vše proběhne v pořádku, záloha se smaže.\n",
    "\n",
    "mohlo by se hodit: \n",
    "\n",
    "- zkopírování souboru: `shutil.copyfile(src, dest)`\n",
    "- odstranění souboru: `os.remove(file)`\n",
    "- přejmenování souboru: `os.rename(src, dest)`"
   ]
  },
  {
   "cell_type": "code",
   "execution_count": 1,
   "metadata": {},
   "outputs": [],
   "source": [
    "import shutil\n",
    "import os\n",
    "\n",
    "class BezpecnySpravceSouboru():\n",
    "    def __init__(self, nazev_souboru, mod):\n",
    "        self.nazev_souboru = nazev_souboru\n",
    "        self.mod = mod\n",
    "        self.soubor = None\n",
    "        # TODO: zadefinujte nazev zalohy jako nazev_souboru + \".backup\"\n",
    "\n",
    "    def __enter__(self):\n",
    "        # TODO: Vytvor soubor se zalohou a otevri originalni soubor\n",
    "        return self.soubor\n",
    "\n",
    "    def __exit__(self, typ_chyby, hodnota_chyby, trasovani_chyby):\n",
    "        # Pokud dojde k vyhozeni vyjimky, obnov pomoci zalohy originalni soubor\n",
    "        # v opacnem pripade smaz zalohu\n",
    "        if typ_chyby:\n",
    "            # TODO: obnov zalohu (napr. odstran zpacakany soubor a prejmenuj zalohu na jmeno zpackaneho souboru)\n",
    "            print(\"Chyba byla zachycena a soubor byl obnoven.\")\n",
    "            return True # toto znamena, vyjimku nebudeme dale propagovat\n",
    "        else:\n",
    "            ... # TODO: smaz zalohu\n",
    "\n",
    "        self.soubor.close()    # TODO zavri soubor"
   ]
  },
  {
   "cell_type": "code",
   "execution_count": 2,
   "metadata": {},
   "outputs": [],
   "source": [
    "# otestujme spravce contextu - ve forme tridy\n",
    "\n",
    "jelen = ['   /|       |\\\\\\n', \"`__\\\\\\\\       //__'\\n\", '   ||      ||\\n', \" \\\\__`\\\\     |'__/\\n\", \"   `_\\\\\\\\   //_'\\n\", '   _.,:---;,._\\n', '   \\\\_:     :_/\\n', '     |@. .@|\\n', '     |     |\\n', '     ,\\\\.-./ \\\\\\n', \"     ;;`-'   `---__________-----.-.\\n\", '     ;;;                         \\\\_\\\\\\n', \"     ';;;                         |\\n\", '      ;    |                      ;\\n', '       \\\\   \\\\     \\\\        |      /\\n', '        \\\\_, \\\\    /        \\\\     |\\\\\\n', \"          |';|  |,,,,,,,,/ \\\\    \\\\ \\\\_\\n\", '          |  |  |           \\\\   /   |\\n', '          \\\\  \\\\  |           |  / \\\\  |\\n', '           | || |           | |   | |\\n', '           | || |           | |   | |\\n', '           | || |           | |   | |\\n', '           |_||_|           |_|   |_|\\n', '          /_//_/           /_/   /_/']\n",
    "lev = ['                                               ,w.\\n', '                                             ,YWMMw  ,M  ,\\n', \"                        _.---.._   __..---._.'MMMMMw,wMWmW,\\n\", '                   _.-\"\"        \"\"\"           YP\"WMMMMMMMMMb,\\n', \"                .-' __.'                   .'     MMMMW^WMMMM;\\n\", '    _,        .\\'.-\\'\"; `,       /`     .--\"\"      :MMM[==MWMW^;\\n', ' ,mM^\"     ,-\\'.\\'   /   ;      ;      /   ,       MMMMb_wMW\"  @\\\\\\n', ',MM:.    .\\'.-\\'   .\\'     ;     `\\\\    ;     `,     MMMMMMMW `\"=./`-,\\n', 'WMMm__,-\\'.\\'     /      _.\\\\      F\"\"\"-+,,   ;_,_.dMMMMMMMM[,_ / `=_}\\n', '\"^MP__.-\\'    ,-\\' _.--\"\"   `-,   ;       \\\\  ; ;MMMMMMMMMMW^``; __|\\n', '           /   .\\'            ; ;         )  )`{  \\\\ `\"^W^`,   \\\\  :\\n', '          /  .\\'             /  (       .\\'  /     Ww._     `.  `\"\\n', '         /  Y,              `,  `-,=,_{   ;      MMMP`\"\"-,  `-._.-,\\n', '        (--, )                `,_ / `) \\\\/\"\")      ^\"      `-, -;\"\\\\:\\n', '         `\"\"\"                    `\"\"\"   `\"\\'                  `---\"']\n",
    "\n",
    "with open('animal.txt', 'w') as f:\n",
    "    f.writelines(jelen)\n",
    "\n",
    "# prepisme obsah souboru `animal.txt` na obsah seznamu `lion`\n",
    "# pokud se vyskytne chyba, soubor se obnovi do puvodniho stavu\n",
    "# srovnej s klasickym pouzitim open()\n",
    "with BezpecnySpravceSouboru(\"animal.txt\", \"w+\") as f:\n",
    "    for i in range(len(lev)):\n",
    "\n",
    "        #### FAIL ####\n",
    "        if i == 3:\n",
    "            raise Exception(\"Chyba\")\n",
    "        ##############\n",
    "\n",
    "        f.write(lev[i])"
   ]
  },
  {
   "cell_type": "markdown",
   "metadata": {},
   "source": [
    "_________________________________________________\n",
    "### Vraťte se sem až probereme generátory!\n",
    "K tomuto tématu se také krátce vrátíme po probrání generátorů v notebooku o multithreadingu a multiprocessingu.\n",
    "\n",
    "\n",
    "#### Vsuvka: zmínka o klíčovém slově `yield`\n",
    "```python\n",
    "def generate_numbers(n):\n",
    "    for i in range(n):\n",
    "        yield i\n",
    "\n",
    "# Pouziti generatoru\n",
    "numbers_generator = generate_numbers(5)\n",
    "\n",
    "# Iterovani skrz generovane hodnoty\n",
    "for number in numbers_generator:\n",
    "    print(number)\n",
    "```\n",
    "__________________________________________________\n",
    "\n",
    "#### Ukázka 2: Správce kontextu jako funkce\n",
    "Jak bychom přepsali našeho správce kontextu `BezpecnySpravceSouboru` jako funkci?"
   ]
  },
  {
   "cell_type": "code",
   "execution_count": 6,
   "metadata": {},
   "outputs": [],
   "source": [
    "from contextlib import contextmanager\n",
    "\n",
    "@contextmanager\n",
    "def bezpecny_spravce_kontextu(nazev_souboru, mod):\n",
    "    nazev_zalohy = nazev_souboru + \".backup\"    # podobne jako __init__\n",
    "\n",
    "    try:\n",
    "        shutil.copyfile(nazev_souboru, nazev_zalohy) # podobne jako __enter__\n",
    "        soubor = open(nazev_souboru, mod)            # podobne jako __enter__\n",
    "        yield soubor                                 # podobne jako __enter__\n",
    "    except Exception as e:\n",
    "        os.remove(nazev_souboru)                            # podobne jako __exit__ (pokud dojde k erroru)\n",
    "        os.rename(nazev_zalohy, nazev_souboru)              # podobne jako __exit__ (pokud dojde k erroru)\n",
    "        print(\"Chyba byla zachycena a soubor byl obnoven.\") # podobne jako __exit__ (pokud dojde k erroru)\n",
    "    finally:\n",
    "        if os.path.exists(nazev_zalohy):\n",
    "            os.remove(nazev_zalohy)                 # podobne jako __exit__ (pokud nedojde k erroru)\n",
    "        soubor.close()                              # podobne jako __exit__ (mimo if/else blok)"
   ]
  },
  {
   "cell_type": "code",
   "execution_count": 8,
   "metadata": {},
   "outputs": [],
   "source": [
    "# otestujme spravce contextu - ve forme funkce\n",
    "\n",
    "jelen = ['   /|       |\\\\\\n', \"`__\\\\\\\\       //__'\\n\", '   ||      ||\\n', \" \\\\__`\\\\     |'__/\\n\", \"   `_\\\\\\\\   //_'\\n\", '   _.,:---;,._\\n', '   \\\\_:     :_/\\n', '     |@. .@|\\n', '     |     |\\n', '     ,\\\\.-./ \\\\\\n', \"     ;;`-'   `---__________-----.-.\\n\", '     ;;;                         \\\\_\\\\\\n', \"     ';;;                         |\\n\", '      ;    |                      ;\\n', '       \\\\   \\\\     \\\\        |      /\\n', '        \\\\_, \\\\    /        \\\\     |\\\\\\n', \"          |';|  |,,,,,,,,/ \\\\    \\\\ \\\\_\\n\", '          |  |  |           \\\\   /   |\\n', '          \\\\  \\\\  |           |  / \\\\  |\\n', '           | || |           | |   | |\\n', '           | || |           | |   | |\\n', '           | || |           | |   | |\\n', '           |_||_|           |_|   |_|\\n', '          /_//_/           /_/   /_/']\n",
    "lev = ['                                               ,w.\\n', '                                             ,YWMMw  ,M  ,\\n', \"                        _.---.._   __..---._.'MMMMMw,wMWmW,\\n\", '                   _.-\"\"        \"\"\"           YP\"WMMMMMMMMMb,\\n', \"                .-' __.'                   .'     MMMMW^WMMMM;\\n\", '    _,        .\\'.-\\'\"; `,       /`     .--\"\"      :MMM[==MWMW^;\\n', ' ,mM^\"     ,-\\'.\\'   /   ;      ;      /   ,       MMMMb_wMW\"  @\\\\\\n', ',MM:.    .\\'.-\\'   .\\'     ;     `\\\\    ;     `,     MMMMMMMW `\"=./`-,\\n', 'WMMm__,-\\'.\\'     /      _.\\\\      F\"\"\"-+,,   ;_,_.dMMMMMMMM[,_ / `=_}\\n', '\"^MP__.-\\'    ,-\\' _.--\"\"   `-,   ;       \\\\  ; ;MMMMMMMMMMW^``; __|\\n', '           /   .\\'            ; ;         )  )`{  \\\\ `\"^W^`,   \\\\  :\\n', '          /  .\\'             /  (       .\\'  /     Ww._     `.  `\"\\n', '         /  Y,              `,  `-,=,_{   ;      MMMP`\"\"-,  `-._.-,\\n', '        (--, )                `,_ / `) \\\\/\"\")      ^\"      `-, -;\"\\\\:\\n', '         `\"\"\"                    `\"\"\"   `\"\\'                  `---\"']\n",
    "\n",
    "with open('animal.txt', 'w') as f:\n",
    "    f.writelines(jelen)\n",
    "\n",
    "# prepisme obsah souboru `animal.txt` na obsah seznamu `lion`\n",
    "# pokud se vyskytne chyba, soubor se obnovi do puvodniho stavu\n",
    "with bezpecny_spravce_kontextu(\"animal.txt\", \"w+\") as f:\n",
    "    for i in range(len(lev)):\n",
    "\n",
    "        #### FAIL ####\n",
    "        if i == 3:\n",
    "            raise Exception(\"Chyba\")\n",
    "        # ##############\n",
    "\n",
    "        f.write(lev[i])"
   ]
  }
 ],
 "metadata": {
  "kernelspec": {
   "display_name": "Python 3",
   "language": "python",
   "name": "python3"
  },
  "language_info": {
   "codemirror_mode": {
    "name": "ipython",
    "version": 3
   },
   "file_extension": ".py",
   "mimetype": "text/x-python",
   "name": "python",
   "nbconvert_exporter": "python",
   "pygments_lexer": "ipython3",
   "version": "3.11.2"
  }
 },
 "nbformat": 4,
 "nbformat_minor": 2
}

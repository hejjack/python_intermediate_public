{
 "cells": [
  {
   "cell_type": "markdown",
   "metadata": {},
   "source": [
    "## Profilování kódu\n",
    "Profilování kódu je proces měření času, který zabere vykonání jednotlivých částí kódu. Profilování kódu nám pomáhá identifikovat části kódu, které zabírají nejvíce času a které je tedy potřeba **optimalizovat**.\n",
    "\n",
    "#### Ukázka 1: použití `timeit.timeit()`"
   ]
  },
  {
   "cell_type": "code",
   "execution_count": null,
   "metadata": {},
   "outputs": [],
   "source": [
    "import timeit\n",
    "\n",
    "# 1. zmereni zadefinovani funkce\n",
    "nastaveni = \"from math import sqrt\"\n",
    "\n",
    "kod = '''\n",
    "def funkce():\n",
    "    return [sqrt(x) for x in range(100)]\n",
    "'''\n",
    "\n",
    "# 2. zmereni pouziti funkce\n",
    "nastaveni2 = '''\n",
    "from math import sqrt\n",
    "\n",
    "def funkce():\n",
    "    return [sqrt(x) for x in range(100)]\n",
    "'''\n",
    "\n",
    "kod2 = \"funkce()\"\n",
    "\n",
    "print(timeit.timeit(stmt=kod, setup=nastaveni,   number=1000000))\n",
    "print(timeit.timeit(stmt=kod2, setup=nastaveni2, number=1000000))"
   ]
  },
  {
   "cell_type": "markdown",
   "metadata": {},
   "source": [
    "#### Ukázka 2: srovnání rychlosti bloků s obdobnou funkcí"
   ]
  },
  {
   "cell_type": "code",
   "execution_count": null,
   "metadata": {},
   "outputs": [],
   "source": [
    "# postupna optimalizace kodu\n",
    "\n",
    "nastaveni = '''\n",
    "numbers = list(range(100000))\n",
    "'''\n",
    "\n",
    "kod = '''\n",
    "for i in range(len(numbers)):\n",
    "    numbers[i]**2\n",
    "'''\n",
    "\n",
    "kod2 = '''\n",
    "for num in numbers:\n",
    "    num**2\n",
    "'''\n",
    "\n",
    "kod3 = '''\n",
    "for i in range(len(numbers)):\n",
    "    numbers[i]*numbers[i]\n",
    "'''\n",
    "\n",
    "kod4 = '''\n",
    "for num in numbers:\n",
    "    num*num\n",
    "'''\n",
    "\n",
    "print(\"numbers[i]**2          :\", timeit.timeit(stmt=kod, setup=nastaveni, number=300))\n",
    "print(\"num**2                 :\", timeit.timeit(stmt=kod2, setup=nastaveni, number=300))\n",
    "print(\"numbers[i]*numbers[i]  :\", timeit.timeit(stmt=kod3, setup=nastaveni, number=300))\n",
    "print(\"num*num                :\", timeit.timeit(stmt=kod4, setup=nastaveni, number=300))"
   ]
  },
  {
   "cell_type": "markdown",
   "metadata": {},
   "source": [
    "#### Cvičení 1\n",
    "Změřte jaká je rychlejší z těchto metod pro zřetězení seznamu čísel.\n",
    "\n",
    "<br></br>\n",
    "1. pomocí `for` cyklu (ve formátu `list comprehension`):\n",
    "```python\n",
    "''.join([str(x) for x in range(1000)])\n",
    "```\n",
    "\n",
    "2. pomocí funkce `map()`:\n",
    "```python\n",
    "''.join(map(str, range(1000)))\n",
    "```\n",
    "\n",
    "Použijte pro experiment dostatečný počet iterací, např. `100000`."
   ]
  },
  {
   "cell_type": "code",
   "execution_count": null,
   "metadata": {},
   "outputs": [],
   "source": [
    "# Using list comprehension\n",
    "comp_time = ...\n",
    "\n",
    "# Using map method\n",
    "map_time = ...\n",
    "\n",
    "\n",
    "print(f\"List Comprehension Time: {comp_time} seconds\")\n",
    "print(f\"Map Method Time: {map_time} seconds\")"
   ]
  },
  {
   "cell_type": "markdown",
   "metadata": {},
   "source": [
    "#### Vysvětlení\n",
    "**list comprehension** je v Pythonu rychlejší než funkce `map()`, protože je pod pokličkou výrazně optimalizované. Funkce `map()` je vhodnější v případě, že nám stačí generátor, jehož vytvoření je naopak výrazně efektivnější než list comprehension."
   ]
  }
 ],
 "metadata": {
  "kernelspec": {
   "display_name": "Python 3",
   "language": "python",
   "name": "python3"
  },
  "language_info": {
   "codemirror_mode": {
    "name": "ipython",
    "version": 3
   },
   "file_extension": ".py",
   "mimetype": "text/x-python",
   "name": "python",
   "nbconvert_exporter": "python",
   "pygments_lexer": "ipython3",
   "version": "3.11.2"
  }
 },
 "nbformat": 4,
 "nbformat_minor": 2
}

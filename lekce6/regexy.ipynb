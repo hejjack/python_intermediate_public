{
 "cells": [
  {
   "cell_type": "markdown",
   "metadata": {},
   "source": [
    "## Regulární výrazy\n",
    "Regulární výrazy jsou vzory, které popisují řetězce. Můžeme například vytvořit výraz, který bude odpovídat libovolné **e-mailové adrese**, **libovolnému datu**, **telefonnímu číslu** nebo **číslu kreditní karty** atd.\n",
    "\n",
    "V jazyce Python můžeme použít pro práci s regulárními výrazy modul `re`. Tento modul nám například pomůže *vyhledat* v textu řetězce odpovídající vzoru nebo zkontrolovat, zda daný text *přesně odpovídá* danému vzoru.\n",
    "\n",
    "\n",
    "### Cvičení 1: Regex editor    \n",
    "Nejprve si zkusíme napsat pár regulárních výrazů v [regex editoru](https://regex101.com/).\n",
    "\n",
    "1. Napiš regulární výraz, který bude odpovídat všem třem řetězcům: \n",
    "\n",
    "```plaintext\n",
    "pes\n",
    "přes\n",
    "prales\n",
    "```\n",
    "\n",
    "1. Napiš regulární výraz, který bude odpovídat řetězcům \n",
    "```plaintext\n",
    "babička\n",
    "prababička\n",
    "praprababička\n",
    "prapraprababička\n",
    "...\n",
    "```\n",
    "1. Uprav předchozí řetězec tak, aby počet předpon `pra` nepřesáhl 3. \n",
    "\n",
    "2. Vytvoř regulární výraz, který bude odpovídat libovolnému e-mailu, který končí na `@gmail.com`. Řetězec před zavináčem nesmí být prázdný\n",
    "```plaintext\n",
    "a@gmail.com\n",
    "master111@gmail.com\n",
    "2_PAC@gmail.com\n",
    "honza.vomacka@gmail.com\n",
    "@gmail.com          xxxxx\n",
    "```\n",
    "   \n",
    "1. Rozšiř svůj regulární výraz tak, aby odpovídal libovolnému e-mailu, který končí na `@gmail.com` nebo `@outlook.com`.\n",
    "\n",
    "```plaintext\n",
    "a@gmail.com\n",
    "master111@gmail.com\n",
    "honza.vomacka@gmail.com\n",
    "login@outlook.com\n",
    "@gmail.com       xxxxx\n",
    "@outlook.com     xxxxx\n",
    "```\n",
    "\n",
    "6. Napiš regulární výraz odpovídající státním poznávacím značkám. Povolená písmena v první trojici jsou: A, S, U, L, K, H, E, P, C, J, B, M, T, Z.  Příklady řetězců, které by měl výraz odpovídat:\n",
    "```plaintext\n",
    "4A2 5057\n",
    "6B5 4422\n",
    "3T5 4321\n",
    "```\n",
    "-----------------------\n",
    "\n",
    "\n",
    "### Modul `re`\n",
    "Nyní si ukážeme, jak pracovat s regulárními výrazy v Pythonu. Použijeme k tomu modul `re`. V učebnici jsme si ukázali několik základních funkcí tohoto modulu: `re.match()`, `re.search()`, `re.fullmatch`, `re.findall()`, `re.finditer`, `re.split`, `re.sub()`, `re.subn()`. Nyní si je vyzkoušíme na konkrétních příkladech.\n",
    "\n",
    "\n",
    "\n",
    "\n",
    "#### Cvičení 2a: `re.search()`\n",
    "Pokud se v textu vyskytuje řetězec odpovídající telefonnímu číslu ve formátu `+xxx xxx xxx xxx`, pak chceme o této skutečnosti spravit uživatele.\n",
    "\n",
    "#### Cvičení 2b: `re.findall()`\n",
    "Uprav volání tak, aby vrátilo všechny výskyty telefonních čísel se slovenskou předvolbou `+421`, které se v textu vyskytují. Vytvoř seznam všech těchto čísel. \n"
   ]
  },
  {
   "cell_type": "code",
   "execution_count": null,
   "metadata": {},
   "outputs": [],
   "source": [
    "import re\n",
    "\n",
    "text = \"\"\"\n",
    "V dnešní době je mnoho způsobů, jak se spojit s ostatními lidmi! Můžete volat na telefonní číslo +420 123 456 789, nebo poslat SMS na +420 987 654 321. Když potřebujete rychlou odpověď, zavolejte mi na číslo +420 555 555 555. Ovšem někdy je lepší poslat e-mail na info@example.com.\n",
    "\n",
    "Náš zákaznický servis je k dispozici 24/7 na slovenském čísle +421 111 222 333. Pokud máte nějaké dotazy ohledně našich produktů, neváhejte zavolat. Až budete v okolí, zajděte na kávu na naši kavárnu v ulici Hlavní 123, kde nás můžete kontaktovat na +421 444 555 666.\n",
    "\n",
    "Pamatujete, že naše telefonní čísla jsou tu pro vás? Ať už jde o dotazy, reklamace nebo jednoduše přátelský rozhovor, rádi vám odpovíme na všem!\n",
    "\"\"\"\n",
    "\n",
    "# TODO: pokud se v textu nenachazi telefonni cislo, informuj uzivatele\n",
    "first_match = ...\n",
    "if first_match:\n",
    "    ...\n",
    "\n",
    "\n",
    "# TODO: najdi vsechna telefonni cisla se slovenskou predvolbou v textu\n",
    "# uloz je do seznamu\n",
    "# POZOR! - je mozne, ze pro zachyceni cele sekvence bude potreba cely regex uzavrit do r'(...)'\n",
    "slovakian_numbers = ...\n"
   ]
  },
  {
   "cell_type": "markdown",
   "metadata": {},
   "source": [
    "#### Cvičení 3: `re.match()`\n",
    "Pomocí funkce `re.match()` v kombinaci s `filter()` a (lambda) funkcí získej seznam emailů, které mají správnou doménu: @gmail.com, @outlook.com, @seznam.cz nebo @centrum.cz.\n",
    "\n"
   ]
  },
  {
   "cell_type": "code",
   "execution_count": null,
   "metadata": {},
   "outputs": [],
   "source": [
    "emails = ['jan.novak@centrum.cz',\n",
    " 'eda_kucera@outlook.eu',\n",
    " 'hotman87@outlook.cz',\n",
    " 'login@seznam.cz',\n",
    " 'jan.novak@seznam.com',\n",
    " 'login@seznam.eu',\n",
    " 'eda_kucera@gmail.com',\n",
    " 'login@outlook.com',\n",
    " 'hotman87@centrum.com',\n",
    " 'jan.novak@gmail.cz',\n",
    " 'login@outlook.eu',\n",
    " 'hotman87@gmail.cz',\n",
    " 'jan.novak@centrum.cz',\n",
    " 'jan.novak@centrum.cz',\n",
    " 'eda_kucera@centrum.com',\n",
    " 'hotman87@seznam.cz',\n",
    " 'login@outlook.cz',\n",
    " 'hotman87@outlook.cz',\n",
    " 'jan.novak@outlook.eu',\n",
    " 'jan.novak@seznam.eu']\n",
    "\n",
    "# TODO use re.match tofind all emails with correct domain: gmail.com, outlook.com, seznam.cz, centrum.cz\n",
    "correct_emails = ...\n",
    "correct_emails"
   ]
  },
  {
   "cell_type": "markdown",
   "metadata": {},
   "source": [
    "#### Cvičení 4\n",
    "Vytvořte seznam loginů emailů z minulého cvičení. Za login bereme vše, co je před zavináčem. Pro provedení můžete použít například `re.match()` v kombinaci s funkcí `map`.\n",
    "\n",
    "\n",
    "<br></br>\n",
    "*Hint*: `re.match()` vrací objekt typu `Match`. Pokud chceme z takto namatchovaných řetězců získat pouze část, která odpovídá nějakému podvýrazu, můžeme použít tzv. *capturing groups*. V regulárním výrazu je pro to potřeba vytvořit skupinu pomocí kulatých závorek. Na jednotlivé skupiny pak můžeme odkazovat funkcí `group()` a indexu skupiny. \n",
    "\n",
    "```python\n",
    "date_string = \"Today is January 20, 2024.\"\n",
    "\n",
    "# Use re.search with capturing groups for the month, day, and year\n",
    "match = re.search(r'(\\w+) (\\d{1,2}), (\\d{4})', date_string) # Januar 20, 2024\n",
    "\n",
    "match.group() # January 20, 2024\n",
    "match.group(1) # January\n",
    "match.group(2) # 20\n",
    "match.group(3) # 2024\n",
    "```"
   ]
  },
  {
   "cell_type": "code",
   "execution_count": null,
   "metadata": {},
   "outputs": [],
   "source": [
    "# TODO: pouzijte map a funkci pro ziskani loginu z emailu\n",
    "def email_to_login(email):\n",
    "    match = ...\n",
    "    return ...\n",
    "\n",
    "\n",
    "list(map(email_to_login, list(correct_emails)))"
   ]
  },
  {
   "cell_type": "code",
   "execution_count": null,
   "metadata": {},
   "outputs": [],
   "source": [
    "correct_emails"
   ]
  },
  {
   "cell_type": "markdown",
   "metadata": {},
   "source": [
    "#### Cvičení 5: `re.split()`\n",
    "Použij text ze cvičení 2a. Pomocí funkce `re.split()` rozděl text na věty. Pravidlem pro rozdělení pro zjednodušení bude, že věta končí tečkou, otazníkem nebo vykřičníkem a následuje mezera. Výsledkem bude seznam vět."
   ]
  },
  {
   "cell_type": "code",
   "execution_count": null,
   "metadata": {},
   "outputs": [],
   "source": [
    "# TODO: pouzijte re.split pro rozdeleni textu na vety"
   ]
  },
  {
   "cell_type": "markdown",
   "metadata": {},
   "source": [
    "#### Cvičení 5b: Bonus challenge\n",
    "Svoje řešení můžeš vyšperkovat tak, že kritérium rozdělení rozšíříš o to, že po mezeře musí následovat velké písmeno a zároveň zajistíš, že se interpunkce ani velké písmeno neztratí.\n",
    "\n",
    "<br></br>\n",
    "*Hint*: k tomuto cvičení ti velmi dobře poslouží koncepty *lookbehind conditional* a *lookahead conditional*. Zkus si je nastudovat:) \n",
    "\n"
   ]
  },
  {
   "cell_type": "code",
   "execution_count": null,
   "metadata": {},
   "outputs": [],
   "source": [
    "# TODO pouzijte re.split a lookbehind/lookahead pro rozdeleni textu na vety"
   ]
  },
  {
   "cell_type": "markdown",
   "metadata": {},
   "source": [
    "#### Cvičení 6: `re.sub()`\n",
    "Pomocí funkce `re.sub()` nahraď všechny výskyty číselných hodnot v textu jejich slovními ekvivalenty. Například `15` nahraď `patnáct` atd. \n"
   ]
  },
  {
   "cell_type": "code",
   "execution_count": null,
   "metadata": {},
   "outputs": [],
   "source": [
    "fruits = '''\n",
    "Snědl jsem na svačinu 10 jablek, 15 hrušek a 5 banánů. Nebo 15 jablek, 5 hrušek a 10 banánů?\n",
    "Nene. ve skutečnosti to bylo 5 jablek, 10 hrušek a 15 banánů.\n",
    "'''\n",
    "\n",
    "# TODO: nahradte vsechny vyskyty cisel jejich slovnimi ekvivalenty\n",
    "# 1 -> jeden, 2 -> dva, 3 -> tri, ..."
   ]
  },
  {
   "cell_type": "markdown",
   "metadata": {},
   "source": [
    "#### Cvičení 6b: Bonus challenge\n",
    "Použij text o ovoci ze cvičení 6. Zkus pomocí funkce `re.sub()` nahradit všechny výskyty čísel za jejich druhé mocniny. \n",
    "\n",
    "<br></br>\n",
    "*Hint*: `re.sub()` umožňuje jako druhý argument předat funkci, která se aplikuje na každý match. Tato funkce musí mít jeden argument, kterým je objekt typu `Match`. Funkce musí vracet řetězec, kterým se nahradí match."
   ]
  },
  {
   "cell_type": "code",
   "execution_count": null,
   "metadata": {},
   "outputs": [],
   "source": [
    "fruits = '''\n",
    "Snědl jsem na svačinu 10 jablek, 15 hrušek a 5 banánů. Nebo 15 jablek, 5 hrušek a 10 banánů?\n",
    "Nene. ve skutečnosti to bylo 5 jablek, 10 hrušek a 15 banánů.\n",
    "'''\n",
    "\n",
    "# TODO: pouzijte re.sub a lambda vyraz pro nahrazeni vsech cisel jejich druhymi mocninami"
   ]
  },
  {
   "cell_type": "markdown",
   "metadata": {},
   "source": [
    "#### Bonus: \n",
    "Zadefinuj funkci `check_password(password)`, která bude kontrolovat, zda heslo splňuje následující podmínky: \n",
    "- minimálně z osm znaků\n",
    "- obsahovat malá i velká písmena\n",
    "- musí obsahovat nejméně jednu číslici\n",
    "- musí také obsahovat jeden ze symbolů: ? ! / %"
   ]
  },
  {
   "cell_type": "code",
   "execution_count": null,
   "metadata": {},
   "outputs": [],
   "source": [
    "# bonusove cviceni\n",
    "def check_password(password):\n",
    "    # TODO: doplnte regularni vyraz/y pro kontrolu hesla\n",
    "\n",
    "\n",
    "    # priklad vypisu pro uzivatele\n",
    "    # if match:\n",
    "    #     print(f\"{password} is a valid password.\")\n",
    "    # else:\n",
    "    #     print(f\"{password} is not a valid password.\")\n",
    "\n",
    "# Example usage:\n",
    "passwords_to_check = [\"Abcd123!\", \"strongPassword\", \"weak123\", \"NoSymbol123\"]\n",
    "\n",
    "for password in passwords_to_check:\n",
    "    check_password(password)"
   ]
  }
 ],
 "metadata": {
  "kernelspec": {
   "display_name": "Python 3",
   "language": "python",
   "name": "python3"
  },
  "language_info": {
   "codemirror_mode": {
    "name": "ipython",
    "version": 3
   },
   "file_extension": ".py",
   "mimetype": "text/x-python",
   "name": "python",
   "nbconvert_exporter": "python",
   "pygments_lexer": "ipython3",
   "version": "3.11.2"
  }
 },
 "nbformat": 4,
 "nbformat_minor": 2
}
